{
  "nbformat": 4,
  "nbformat_minor": 0,
  "metadata": {
    "colab": {
      "provenance": [],
      "gpuType": "T4"
    },
    "kernelspec": {
      "name": "python3",
      "display_name": "Python 3"
    },
    "language_info": {
      "name": "python"
    },
    "accelerator": "GPU"
  },
  "cells": [
    {
      "cell_type": "code",
      "execution_count": 1,
      "metadata": {
        "id": "xvKFFeDwgfFZ"
      },
      "outputs": [],
      "source": [
        "import numpy as np\n",
        "import pandas as pd"
      ]
    },
    {
      "cell_type": "code",
      "source": [
        "df = pd.read_csv(\"/content/Watches Bags Accessories.csv\",encoding='latin1')\n",
        "df.head()"
      ],
      "metadata": {
        "id": "Wjy8k9hggtPT",
        "colab": {
          "base_uri": "https://localhost:8080/",
          "height": 310
        },
        "outputId": "cd2eb9e7-c5de-4d2b-8153-94624777646f"
      },
      "execution_count": 2,
      "outputs": [
        {
          "output_type": "execute_result",
          "data": {
            "text/plain": [
              "                                               Title Rating in Stars  \\\n",
              "0  Yfashion Cartoon  Electronic  Watch Life Water...           4.6/5   \n",
              "1  100% Imported LED watch for men , boys and Kid...           4.3/5   \n",
              "2  1 Cartoon Characters Analog Wrist Watch For Ki...           4.5/5   \n",
              "3  M3 Touch LED Bracelet Digital Watch Band Good ...           4.6/5   \n",
              "4            led Watches For Boys and Girls and kids           4.4/5   \n",
              "\n",
              "   Rating Count Sold Count Voucher       Delivery Currency Current Price  \\\n",
              "0           707    6K Sold       0  Free Delivery      Rs.           287   \n",
              "1           293    1K Sold       0              0      Rs.           270   \n",
              "2            57   452 Sold       0  Free Delivery      Rs.           225   \n",
              "3            51   332 Sold       0  Free Delivery      Rs.           160   \n",
              "4            54   476 Sold       0  Free Delivery      Rs.           198   \n",
              "\n",
              "  Original Price                                               Link  \\\n",
              "0        Rs. 520  //www.daraz.pk/products/y-led-3-i258744118-s14...   \n",
              "1        Rs. 999  //www.daraz.pk/products/100-led-2023-i40167553...   \n",
              "2        Rs. 750  //www.daraz.pk/products/1-i423737473-s20070599...   \n",
              "3        Rs. 299  //www.daraz.pk/products/m3-led-led-i432456407-...   \n",
              "4        Rs. 300  //www.daraz.pk/products/led-i398157365-s192654...   \n",
              "\n",
              "       Category  \n",
              "0  Kids Watches  \n",
              "1  Kids Watches  \n",
              "2  Kids Watches  \n",
              "3  Kids Watches  \n",
              "4  Kids Watches  "
            ],
            "text/html": [
              "\n",
              "  <div id=\"df-8e8a7d70-1e6a-4105-a047-6cfb8c77fd85\" class=\"colab-df-container\">\n",
              "    <div>\n",
              "<style scoped>\n",
              "    .dataframe tbody tr th:only-of-type {\n",
              "        vertical-align: middle;\n",
              "    }\n",
              "\n",
              "    .dataframe tbody tr th {\n",
              "        vertical-align: top;\n",
              "    }\n",
              "\n",
              "    .dataframe thead th {\n",
              "        text-align: right;\n",
              "    }\n",
              "</style>\n",
              "<table border=\"1\" class=\"dataframe\">\n",
              "  <thead>\n",
              "    <tr style=\"text-align: right;\">\n",
              "      <th></th>\n",
              "      <th>Title</th>\n",
              "      <th>Rating in Stars</th>\n",
              "      <th>Rating Count</th>\n",
              "      <th>Sold Count</th>\n",
              "      <th>Voucher</th>\n",
              "      <th>Delivery</th>\n",
              "      <th>Currency</th>\n",
              "      <th>Current Price</th>\n",
              "      <th>Original Price</th>\n",
              "      <th>Link</th>\n",
              "      <th>Category</th>\n",
              "    </tr>\n",
              "  </thead>\n",
              "  <tbody>\n",
              "    <tr>\n",
              "      <th>0</th>\n",
              "      <td>Yfashion Cartoon  Electronic  Watch Life Water...</td>\n",
              "      <td>4.6/5</td>\n",
              "      <td>707</td>\n",
              "      <td>6K Sold</td>\n",
              "      <td>0</td>\n",
              "      <td>Free Delivery</td>\n",
              "      <td>Rs.</td>\n",
              "      <td>287</td>\n",
              "      <td>Rs. 520</td>\n",
              "      <td>//www.daraz.pk/products/y-led-3-i258744118-s14...</td>\n",
              "      <td>Kids Watches</td>\n",
              "    </tr>\n",
              "    <tr>\n",
              "      <th>1</th>\n",
              "      <td>100% Imported LED watch for men , boys and Kid...</td>\n",
              "      <td>4.3/5</td>\n",
              "      <td>293</td>\n",
              "      <td>1K Sold</td>\n",
              "      <td>0</td>\n",
              "      <td>0</td>\n",
              "      <td>Rs.</td>\n",
              "      <td>270</td>\n",
              "      <td>Rs. 999</td>\n",
              "      <td>//www.daraz.pk/products/100-led-2023-i40167553...</td>\n",
              "      <td>Kids Watches</td>\n",
              "    </tr>\n",
              "    <tr>\n",
              "      <th>2</th>\n",
              "      <td>1 Cartoon Characters Analog Wrist Watch For Ki...</td>\n",
              "      <td>4.5/5</td>\n",
              "      <td>57</td>\n",
              "      <td>452 Sold</td>\n",
              "      <td>0</td>\n",
              "      <td>Free Delivery</td>\n",
              "      <td>Rs.</td>\n",
              "      <td>225</td>\n",
              "      <td>Rs. 750</td>\n",
              "      <td>//www.daraz.pk/products/1-i423737473-s20070599...</td>\n",
              "      <td>Kids Watches</td>\n",
              "    </tr>\n",
              "    <tr>\n",
              "      <th>3</th>\n",
              "      <td>M3 Touch LED Bracelet Digital Watch Band Good ...</td>\n",
              "      <td>4.6/5</td>\n",
              "      <td>51</td>\n",
              "      <td>332 Sold</td>\n",
              "      <td>0</td>\n",
              "      <td>Free Delivery</td>\n",
              "      <td>Rs.</td>\n",
              "      <td>160</td>\n",
              "      <td>Rs. 299</td>\n",
              "      <td>//www.daraz.pk/products/m3-led-led-i432456407-...</td>\n",
              "      <td>Kids Watches</td>\n",
              "    </tr>\n",
              "    <tr>\n",
              "      <th>4</th>\n",
              "      <td>led Watches For Boys and Girls and kids</td>\n",
              "      <td>4.4/5</td>\n",
              "      <td>54</td>\n",
              "      <td>476 Sold</td>\n",
              "      <td>0</td>\n",
              "      <td>Free Delivery</td>\n",
              "      <td>Rs.</td>\n",
              "      <td>198</td>\n",
              "      <td>Rs. 300</td>\n",
              "      <td>//www.daraz.pk/products/led-i398157365-s192654...</td>\n",
              "      <td>Kids Watches</td>\n",
              "    </tr>\n",
              "  </tbody>\n",
              "</table>\n",
              "</div>\n",
              "    <div class=\"colab-df-buttons\">\n",
              "\n",
              "  <div class=\"colab-df-container\">\n",
              "    <button class=\"colab-df-convert\" onclick=\"convertToInteractive('df-8e8a7d70-1e6a-4105-a047-6cfb8c77fd85')\"\n",
              "            title=\"Convert this dataframe to an interactive table.\"\n",
              "            style=\"display:none;\">\n",
              "\n",
              "  <svg xmlns=\"http://www.w3.org/2000/svg\" height=\"24px\" viewBox=\"0 -960 960 960\">\n",
              "    <path d=\"M120-120v-720h720v720H120Zm60-500h600v-160H180v160Zm220 220h160v-160H400v160Zm0 220h160v-160H400v160ZM180-400h160v-160H180v160Zm440 0h160v-160H620v160ZM180-180h160v-160H180v160Zm440 0h160v-160H620v160Z\"/>\n",
              "  </svg>\n",
              "    </button>\n",
              "\n",
              "  <style>\n",
              "    .colab-df-container {\n",
              "      display:flex;\n",
              "      gap: 12px;\n",
              "    }\n",
              "\n",
              "    .colab-df-convert {\n",
              "      background-color: #E8F0FE;\n",
              "      border: none;\n",
              "      border-radius: 50%;\n",
              "      cursor: pointer;\n",
              "      display: none;\n",
              "      fill: #1967D2;\n",
              "      height: 32px;\n",
              "      padding: 0 0 0 0;\n",
              "      width: 32px;\n",
              "    }\n",
              "\n",
              "    .colab-df-convert:hover {\n",
              "      background-color: #E2EBFA;\n",
              "      box-shadow: 0px 1px 2px rgba(60, 64, 67, 0.3), 0px 1px 3px 1px rgba(60, 64, 67, 0.15);\n",
              "      fill: #174EA6;\n",
              "    }\n",
              "\n",
              "    .colab-df-buttons div {\n",
              "      margin-bottom: 4px;\n",
              "    }\n",
              "\n",
              "    [theme=dark] .colab-df-convert {\n",
              "      background-color: #3B4455;\n",
              "      fill: #D2E3FC;\n",
              "    }\n",
              "\n",
              "    [theme=dark] .colab-df-convert:hover {\n",
              "      background-color: #434B5C;\n",
              "      box-shadow: 0px 1px 3px 1px rgba(0, 0, 0, 0.15);\n",
              "      filter: drop-shadow(0px 1px 2px rgba(0, 0, 0, 0.3));\n",
              "      fill: #FFFFFF;\n",
              "    }\n",
              "  </style>\n",
              "\n",
              "    <script>\n",
              "      const buttonEl =\n",
              "        document.querySelector('#df-8e8a7d70-1e6a-4105-a047-6cfb8c77fd85 button.colab-df-convert');\n",
              "      buttonEl.style.display =\n",
              "        google.colab.kernel.accessAllowed ? 'block' : 'none';\n",
              "\n",
              "      async function convertToInteractive(key) {\n",
              "        const element = document.querySelector('#df-8e8a7d70-1e6a-4105-a047-6cfb8c77fd85');\n",
              "        const dataTable =\n",
              "          await google.colab.kernel.invokeFunction('convertToInteractive',\n",
              "                                                    [key], {});\n",
              "        if (!dataTable) return;\n",
              "\n",
              "        const docLinkHtml = 'Like what you see? Visit the ' +\n",
              "          '<a target=\"_blank\" href=https://colab.research.google.com/notebooks/data_table.ipynb>data table notebook</a>'\n",
              "          + ' to learn more about interactive tables.';\n",
              "        element.innerHTML = '';\n",
              "        dataTable['output_type'] = 'display_data';\n",
              "        await google.colab.output.renderOutput(dataTable, element);\n",
              "        const docLink = document.createElement('div');\n",
              "        docLink.innerHTML = docLinkHtml;\n",
              "        element.appendChild(docLink);\n",
              "      }\n",
              "    </script>\n",
              "  </div>\n",
              "\n",
              "\n",
              "<div id=\"df-e006c5d9-84ea-464b-9d40-4e21bf43d963\">\n",
              "  <button class=\"colab-df-quickchart\" onclick=\"quickchart('df-e006c5d9-84ea-464b-9d40-4e21bf43d963')\"\n",
              "            title=\"Suggest charts\"\n",
              "            style=\"display:none;\">\n",
              "\n",
              "<svg xmlns=\"http://www.w3.org/2000/svg\" height=\"24px\"viewBox=\"0 0 24 24\"\n",
              "     width=\"24px\">\n",
              "    <g>\n",
              "        <path d=\"M19 3H5c-1.1 0-2 .9-2 2v14c0 1.1.9 2 2 2h14c1.1 0 2-.9 2-2V5c0-1.1-.9-2-2-2zM9 17H7v-7h2v7zm4 0h-2V7h2v10zm4 0h-2v-4h2v4z\"/>\n",
              "    </g>\n",
              "</svg>\n",
              "  </button>\n",
              "\n",
              "<style>\n",
              "  .colab-df-quickchart {\n",
              "      --bg-color: #E8F0FE;\n",
              "      --fill-color: #1967D2;\n",
              "      --hover-bg-color: #E2EBFA;\n",
              "      --hover-fill-color: #174EA6;\n",
              "      --disabled-fill-color: #AAA;\n",
              "      --disabled-bg-color: #DDD;\n",
              "  }\n",
              "\n",
              "  [theme=dark] .colab-df-quickchart {\n",
              "      --bg-color: #3B4455;\n",
              "      --fill-color: #D2E3FC;\n",
              "      --hover-bg-color: #434B5C;\n",
              "      --hover-fill-color: #FFFFFF;\n",
              "      --disabled-bg-color: #3B4455;\n",
              "      --disabled-fill-color: #666;\n",
              "  }\n",
              "\n",
              "  .colab-df-quickchart {\n",
              "    background-color: var(--bg-color);\n",
              "    border: none;\n",
              "    border-radius: 50%;\n",
              "    cursor: pointer;\n",
              "    display: none;\n",
              "    fill: var(--fill-color);\n",
              "    height: 32px;\n",
              "    padding: 0;\n",
              "    width: 32px;\n",
              "  }\n",
              "\n",
              "  .colab-df-quickchart:hover {\n",
              "    background-color: var(--hover-bg-color);\n",
              "    box-shadow: 0 1px 2px rgba(60, 64, 67, 0.3), 0 1px 3px 1px rgba(60, 64, 67, 0.15);\n",
              "    fill: var(--button-hover-fill-color);\n",
              "  }\n",
              "\n",
              "  .colab-df-quickchart-complete:disabled,\n",
              "  .colab-df-quickchart-complete:disabled:hover {\n",
              "    background-color: var(--disabled-bg-color);\n",
              "    fill: var(--disabled-fill-color);\n",
              "    box-shadow: none;\n",
              "  }\n",
              "\n",
              "  .colab-df-spinner {\n",
              "    border: 2px solid var(--fill-color);\n",
              "    border-color: transparent;\n",
              "    border-bottom-color: var(--fill-color);\n",
              "    animation:\n",
              "      spin 1s steps(1) infinite;\n",
              "  }\n",
              "\n",
              "  @keyframes spin {\n",
              "    0% {\n",
              "      border-color: transparent;\n",
              "      border-bottom-color: var(--fill-color);\n",
              "      border-left-color: var(--fill-color);\n",
              "    }\n",
              "    20% {\n",
              "      border-color: transparent;\n",
              "      border-left-color: var(--fill-color);\n",
              "      border-top-color: var(--fill-color);\n",
              "    }\n",
              "    30% {\n",
              "      border-color: transparent;\n",
              "      border-left-color: var(--fill-color);\n",
              "      border-top-color: var(--fill-color);\n",
              "      border-right-color: var(--fill-color);\n",
              "    }\n",
              "    40% {\n",
              "      border-color: transparent;\n",
              "      border-right-color: var(--fill-color);\n",
              "      border-top-color: var(--fill-color);\n",
              "    }\n",
              "    60% {\n",
              "      border-color: transparent;\n",
              "      border-right-color: var(--fill-color);\n",
              "    }\n",
              "    80% {\n",
              "      border-color: transparent;\n",
              "      border-right-color: var(--fill-color);\n",
              "      border-bottom-color: var(--fill-color);\n",
              "    }\n",
              "    90% {\n",
              "      border-color: transparent;\n",
              "      border-bottom-color: var(--fill-color);\n",
              "    }\n",
              "  }\n",
              "</style>\n",
              "\n",
              "  <script>\n",
              "    async function quickchart(key) {\n",
              "      const quickchartButtonEl =\n",
              "        document.querySelector('#' + key + ' button');\n",
              "      quickchartButtonEl.disabled = true;  // To prevent multiple clicks.\n",
              "      quickchartButtonEl.classList.add('colab-df-spinner');\n",
              "      try {\n",
              "        const charts = await google.colab.kernel.invokeFunction(\n",
              "            'suggestCharts', [key], {});\n",
              "      } catch (error) {\n",
              "        console.error('Error during call to suggestCharts:', error);\n",
              "      }\n",
              "      quickchartButtonEl.classList.remove('colab-df-spinner');\n",
              "      quickchartButtonEl.classList.add('colab-df-quickchart-complete');\n",
              "    }\n",
              "    (() => {\n",
              "      let quickchartButtonEl =\n",
              "        document.querySelector('#df-e006c5d9-84ea-464b-9d40-4e21bf43d963 button');\n",
              "      quickchartButtonEl.style.display =\n",
              "        google.colab.kernel.accessAllowed ? 'block' : 'none';\n",
              "    })();\n",
              "  </script>\n",
              "</div>\n",
              "\n",
              "    </div>\n",
              "  </div>\n"
            ],
            "application/vnd.google.colaboratory.intrinsic+json": {
              "type": "dataframe",
              "variable_name": "df",
              "summary": "{\n  \"name\": \"df\",\n  \"rows\": 1078,\n  \"fields\": [\n    {\n      \"column\": \"Title\",\n      \"properties\": {\n        \"dtype\": \"string\",\n        \"num_unique_values\": 961,\n        \"samples\": [\n          \"New Men's Wallet Short Multi-card Coin Purse Bifold Fashion Casual Wallet PU Leather Youth Thin Two-fold Horizontal Wallet Men 2023\",\n          \"Stainless Steel Casual Watch for Man SMART Quartz Watches for Boys & Men New Fashion Wrist watch\",\n          \"Baellerry Long Wallet /Clutch Bag/Phone Pocket/  / Purse/ Card Holder/Coin Bag long wallet for men Slim long wallet for boys\"\n        ],\n        \"semantic_type\": \"\",\n        \"description\": \"\"\n      }\n    },\n    {\n      \"column\": \"Rating in Stars\",\n      \"properties\": {\n        \"dtype\": \"category\",\n        \"num_unique_values\": 25,\n        \"samples\": [\n          \"4.8/5\",\n          \"5-Mar\",\n          \"4.6/5\"\n        ],\n        \"semantic_type\": \"\",\n        \"description\": \"\"\n      }\n    },\n    {\n      \"column\": \"Rating Count\",\n      \"properties\": {\n        \"dtype\": \"number\",\n        \"std\": 429,\n        \"min\": 0,\n        \"max\": 5553,\n        \"num_unique_values\": 388,\n        \"samples\": [\n          256,\n          7,\n          70\n        ],\n        \"semantic_type\": \"\",\n        \"description\": \"\"\n      }\n    },\n    {\n      \"column\": \"Sold Count\",\n      \"properties\": {\n        \"dtype\": \"category\",\n        \"num_unique_values\": 479,\n        \"samples\": [\n          \"4K Sold\",\n          \"566 Sold\",\n          \"274 Sold\"\n        ],\n        \"semantic_type\": \"\",\n        \"description\": \"\"\n      }\n    },\n    {\n      \"column\": \"Voucher\",\n      \"properties\": {\n        \"dtype\": \"category\",\n        \"num_unique_values\": 18,\n        \"samples\": [\n          \"0\",\n          \"2 Vouchers\",\n          \"5% Off\"\n        ],\n        \"semantic_type\": \"\",\n        \"description\": \"\"\n      }\n    },\n    {\n      \"column\": \"Delivery\",\n      \"properties\": {\n        \"dtype\": \"category\",\n        \"num_unique_values\": 2,\n        \"samples\": [\n          \"0\",\n          \"Free Delivery\"\n        ],\n        \"semantic_type\": \"\",\n        \"description\": \"\"\n      }\n    },\n    {\n      \"column\": \"Currency\",\n      \"properties\": {\n        \"dtype\": \"category\",\n        \"num_unique_values\": 1,\n        \"samples\": [\n          \"Rs.\"\n        ],\n        \"semantic_type\": \"\",\n        \"description\": \"\"\n      }\n    },\n    {\n      \"column\": \"Current Price\",\n      \"properties\": {\n        \"dtype\": \"category\",\n        \"num_unique_values\": 509,\n        \"samples\": [\n          \"899\"\n        ],\n        \"semantic_type\": \"\",\n        \"description\": \"\"\n      }\n    },\n    {\n      \"column\": \"Original Price\",\n      \"properties\": {\n        \"dtype\": \"category\",\n        \"num_unique_values\": 319,\n        \"samples\": [\n          \"Rs. 845\"\n        ],\n        \"semantic_type\": \"\",\n        \"description\": \"\"\n      }\n    },\n    {\n      \"column\": \"Link\",\n      \"properties\": {\n        \"dtype\": \"string\",\n        \"num_unique_values\": 1051,\n        \"samples\": [\n          \"//www.daraz.pk/products/premium-quality-pocket-friendly-slim-and-smart-classy-wallet-and-card-holder-purse-for-men-boys-i433114936-s2073427982.html?search=1\"\n        ],\n        \"semantic_type\": \"\",\n        \"description\": \"\"\n      }\n    },\n    {\n      \"column\": \"Category\",\n      \"properties\": {\n        \"dtype\": \"category\",\n        \"num_unique_values\": 7,\n        \"samples\": [\n          \"Kids Watches\"\n        ],\n        \"semantic_type\": \"\",\n        \"description\": \"\"\n      }\n    }\n  ]\n}"
            }
          },
          "metadata": {},
          "execution_count": 2
        }
      ]
    },
    {
      "cell_type": "code",
      "source": [
        "df.info()"
      ],
      "metadata": {
        "id": "HfjacnNxhacY",
        "colab": {
          "base_uri": "https://localhost:8080/"
        },
        "outputId": "d4323302-f568-4109-e5cf-e0737b5f6de4"
      },
      "execution_count": 3,
      "outputs": [
        {
          "output_type": "stream",
          "name": "stdout",
          "text": [
            "<class 'pandas.core.frame.DataFrame'>\n",
            "RangeIndex: 1078 entries, 0 to 1077\n",
            "Data columns (total 11 columns):\n",
            " #   Column           Non-Null Count  Dtype \n",
            "---  ------           --------------  ----- \n",
            " 0   Title            1078 non-null   object\n",
            " 1   Rating in Stars  1078 non-null   object\n",
            " 2   Rating Count     1078 non-null   int64 \n",
            " 3   Sold Count       1044 non-null   object\n",
            " 4   Voucher          1078 non-null   object\n",
            " 5   Delivery         1078 non-null   object\n",
            " 6   Currency         1078 non-null   object\n",
            " 7   Current Price    1078 non-null   object\n",
            " 8   Original Price   1010 non-null   object\n",
            " 9   Link             1078 non-null   object\n",
            " 10  Category         1078 non-null   object\n",
            "dtypes: int64(1), object(10)\n",
            "memory usage: 92.8+ KB\n"
          ]
        }
      ]
    },
    {
      "cell_type": "code",
      "source": [
        "def extract_rating(value):\n",
        "    try:\n",
        "        return float(value.split('/')[0])\n",
        "    except ValueError:\n",
        "        return None\n",
        "\n",
        "df['Rating in Stars'] = df['Rating in Stars'].apply(extract_rating)\n",
        "df = df.dropna()"
      ],
      "metadata": {
        "id": "gIoC5fqJhik5"
      },
      "execution_count": 4,
      "outputs": []
    },
    {
      "cell_type": "code",
      "source": [
        "def clean_sales(value):\n",
        "    value = value.replace(' Sold', '')\n",
        "    if 'K' in value:\n",
        "        value = value.replace('K', '')\n",
        "        value = float(value) * 1000\n",
        "    return int(value)\n",
        "\n",
        "df['Sold Count'] = df['Sold Count'].apply(clean_sales)"
      ],
      "metadata": {
        "id": "viPC4fdUiTqP"
      },
      "execution_count": 5,
      "outputs": []
    },
    {
      "cell_type": "code",
      "source": [
        "import re\n",
        "\n",
        "def extract_numerical_value(string):\n",
        "    if re.match(r'^\\d+ Vouchers$', string):  # Check if string starts with a number followed by ' Vouchers'\n",
        "        return int(re.match(r'^(\\d+)', string).group(1))  # Extract the number\n",
        "    elif re.match(r'^Rs\\.(\\d+)', string):  # Check if string starts with 'Rs.'\n",
        "        return 1  # Extract the number after 'Rs.'\n",
        "    else:\n",
        "        return 0\n",
        "\n",
        "df['Voucher'] = df['Voucher'].apply(extract_numerical_value)"
      ],
      "metadata": {
        "id": "yW-hUh11jefA"
      },
      "execution_count": 6,
      "outputs": []
    },
    {
      "cell_type": "code",
      "source": [
        "def convert_delivery(value):\n",
        "    if value == 'Free Delivery':\n",
        "        return 1\n",
        "    else:\n",
        "        return 0\n",
        "\n",
        "df['Delivery'] = df['Delivery'].apply(convert_delivery)"
      ],
      "metadata": {
        "id": "ai6qjP05lS2R"
      },
      "execution_count": 7,
      "outputs": []
    },
    {
      "cell_type": "code",
      "source": [
        "df['Current Price'] = df['Current Price'].str.replace(',', '').astype(int)"
      ],
      "metadata": {
        "id": "xonjBnn2lzV5"
      },
      "execution_count": 8,
      "outputs": []
    },
    {
      "cell_type": "code",
      "source": [
        "df['Original Price'] = df['Original Price'].str.replace('Rs. ', '').str.replace(',', '').astype(int)"
      ],
      "metadata": {
        "id": "fNwabeb6mWXJ"
      },
      "execution_count": 9,
      "outputs": []
    },
    {
      "cell_type": "code",
      "source": [
        "from sklearn.preprocessing import LabelEncoder\n",
        "label_encoder = LabelEncoder()\n",
        "df['Category_encoded'] = label_encoder.fit_transform(df['Category']) + 1"
      ],
      "metadata": {
        "id": "gwZknfCGmvs6"
      },
      "execution_count": 10,
      "outputs": []
    },
    {
      "cell_type": "markdown",
      "source": [
        "### **Encode Title**"
      ],
      "metadata": {
        "id": "BCMPHxmVnGep"
      }
    },
    {
      "cell_type": "code",
      "source": [
        "!pip install -U \"tensorflow-text==2.13.*\"\n",
        "!pip install \"tf-models-official==2.13.*\""
      ],
      "metadata": {
        "id": "RM49Vb9bnRK6"
      },
      "execution_count": null,
      "outputs": []
    },
    {
      "cell_type": "code",
      "source": [
        "import tensorflow as tf\n",
        "import tensorflow_hub as hub\n",
        "import tensorflow_text"
      ],
      "metadata": {
        "id": "lffSA0eKnEMx"
      },
      "execution_count": 12,
      "outputs": []
    },
    {
      "cell_type": "code",
      "source": [
        "bert_preprocess = hub.KerasLayer(\"https://tfhub.dev/tensorflow/bert_en_uncased_preprocess/3\")\n",
        "bert_encoder = hub.KerasLayer(\"https://tfhub.dev/tensorflow/bert_en_uncased_L-12_H-768_A-12/4\")"
      ],
      "metadata": {
        "id": "vmdx3UmtoEtu"
      },
      "execution_count": 13,
      "outputs": []
    },
    {
      "cell_type": "code",
      "source": [
        "def get_sentence_embeding(sentences):\n",
        "    preprocessed_text = bert_preprocess(sentences)\n",
        "    return bert_encoder(preprocessed_text)['pooled_output']\n"
      ],
      "metadata": {
        "id": "k4iYTR9WoBkA"
      },
      "execution_count": 14,
      "outputs": []
    },
    {
      "cell_type": "code",
      "source": [
        "def batch_generator(sentences, batch_size):\n",
        "    for i in range(0, len(sentences), batch_size):\n",
        "        yield sentences[i:i+batch_size]\n",
        "\n",
        "batch_size = 50\n",
        "embeddings = []\n",
        "i = 0\n",
        "\n",
        "for batch in batch_generator(df[\"Title\"], batch_size):\n",
        "    print(i)\n",
        "    embeddings.append(get_sentence_embeding(batch))\n",
        "    i = i + 1\n",
        "\n",
        "embededtext = tf.concat(embeddings, axis=0)"
      ],
      "metadata": {
        "colab": {
          "base_uri": "https://localhost:8080/"
        },
        "id": "fxe0QGbkoI7Q",
        "outputId": "8acb56a1-f45e-4340-852b-4cccd45d0b34"
      },
      "execution_count": 15,
      "outputs": [
        {
          "output_type": "stream",
          "name": "stdout",
          "text": [
            "0\n",
            "1\n",
            "2\n",
            "3\n",
            "4\n",
            "5\n",
            "6\n",
            "7\n",
            "8\n",
            "9\n",
            "10\n",
            "11\n",
            "12\n",
            "13\n",
            "14\n",
            "15\n",
            "16\n",
            "17\n",
            "18\n"
          ]
        }
      ]
    },
    {
      "cell_type": "code",
      "source": [
        "embededtext = embededtext.numpy()"
      ],
      "metadata": {
        "id": "W1d0riLBoSSJ"
      },
      "execution_count": 15,
      "outputs": []
    },
    {
      "cell_type": "code",
      "source": [
        "df['Total Sale'] = df['Current Price'] * df['Sold Count']"
      ],
      "metadata": {
        "id": "5wYZQxnhrpXK"
      },
      "execution_count": 26,
      "outputs": []
    },
    {
      "cell_type": "code",
      "source": [
        "df.head()"
      ],
      "metadata": {
        "colab": {
          "base_uri": "https://localhost:8080/",
          "height": 310
        },
        "id": "kX5FiqScsAzg",
        "outputId": "6f2887c3-485d-45d1-e693-fe43c565b309"
      },
      "execution_count": 27,
      "outputs": [
        {
          "output_type": "execute_result",
          "data": {
            "text/plain": [
              "                                               Title  Rating in Stars  \\\n",
              "0  Yfashion Cartoon  Electronic  Watch Life Water...              4.6   \n",
              "1  100% Imported LED watch for men , boys and Kid...              4.3   \n",
              "2  1 Cartoon Characters Analog Wrist Watch For Ki...              4.5   \n",
              "3  M3 Touch LED Bracelet Digital Watch Band Good ...              4.6   \n",
              "4            led Watches For Boys and Girls and kids              4.4   \n",
              "\n",
              "   Rating Count  Sold Count  Voucher  Delivery Currency  Current Price  \\\n",
              "0           707        6000        0         1      Rs.            287   \n",
              "1           293        1000        0         0      Rs.            270   \n",
              "2            57         452        0         1      Rs.            225   \n",
              "3            51         332        0         1      Rs.            160   \n",
              "4            54         476        0         1      Rs.            198   \n",
              "\n",
              "   Original Price                                               Link  \\\n",
              "0             520  //www.daraz.pk/products/y-led-3-i258744118-s14...   \n",
              "1             999  //www.daraz.pk/products/100-led-2023-i40167553...   \n",
              "2             750  //www.daraz.pk/products/1-i423737473-s20070599...   \n",
              "3             299  //www.daraz.pk/products/m3-led-led-i432456407-...   \n",
              "4             300  //www.daraz.pk/products/led-i398157365-s192654...   \n",
              "\n",
              "       Category  Category_encoded  Total Sale  \n",
              "0  Kids Watches                 1     1722000  \n",
              "1  Kids Watches                 1      270000  \n",
              "2  Kids Watches                 1      101700  \n",
              "3  Kids Watches                 1       53120  \n",
              "4  Kids Watches                 1       94248  "
            ],
            "text/html": [
              "\n",
              "  <div id=\"df-10b454fc-5d7a-4bf9-9a34-7d94a5ec3c7f\" class=\"colab-df-container\">\n",
              "    <div>\n",
              "<style scoped>\n",
              "    .dataframe tbody tr th:only-of-type {\n",
              "        vertical-align: middle;\n",
              "    }\n",
              "\n",
              "    .dataframe tbody tr th {\n",
              "        vertical-align: top;\n",
              "    }\n",
              "\n",
              "    .dataframe thead th {\n",
              "        text-align: right;\n",
              "    }\n",
              "</style>\n",
              "<table border=\"1\" class=\"dataframe\">\n",
              "  <thead>\n",
              "    <tr style=\"text-align: right;\">\n",
              "      <th></th>\n",
              "      <th>Title</th>\n",
              "      <th>Rating in Stars</th>\n",
              "      <th>Rating Count</th>\n",
              "      <th>Sold Count</th>\n",
              "      <th>Voucher</th>\n",
              "      <th>Delivery</th>\n",
              "      <th>Currency</th>\n",
              "      <th>Current Price</th>\n",
              "      <th>Original Price</th>\n",
              "      <th>Link</th>\n",
              "      <th>Category</th>\n",
              "      <th>Category_encoded</th>\n",
              "      <th>Total Sale</th>\n",
              "    </tr>\n",
              "  </thead>\n",
              "  <tbody>\n",
              "    <tr>\n",
              "      <th>0</th>\n",
              "      <td>Yfashion Cartoon  Electronic  Watch Life Water...</td>\n",
              "      <td>4.6</td>\n",
              "      <td>707</td>\n",
              "      <td>6000</td>\n",
              "      <td>0</td>\n",
              "      <td>1</td>\n",
              "      <td>Rs.</td>\n",
              "      <td>287</td>\n",
              "      <td>520</td>\n",
              "      <td>//www.daraz.pk/products/y-led-3-i258744118-s14...</td>\n",
              "      <td>Kids Watches</td>\n",
              "      <td>1</td>\n",
              "      <td>1722000</td>\n",
              "    </tr>\n",
              "    <tr>\n",
              "      <th>1</th>\n",
              "      <td>100% Imported LED watch for men , boys and Kid...</td>\n",
              "      <td>4.3</td>\n",
              "      <td>293</td>\n",
              "      <td>1000</td>\n",
              "      <td>0</td>\n",
              "      <td>0</td>\n",
              "      <td>Rs.</td>\n",
              "      <td>270</td>\n",
              "      <td>999</td>\n",
              "      <td>//www.daraz.pk/products/100-led-2023-i40167553...</td>\n",
              "      <td>Kids Watches</td>\n",
              "      <td>1</td>\n",
              "      <td>270000</td>\n",
              "    </tr>\n",
              "    <tr>\n",
              "      <th>2</th>\n",
              "      <td>1 Cartoon Characters Analog Wrist Watch For Ki...</td>\n",
              "      <td>4.5</td>\n",
              "      <td>57</td>\n",
              "      <td>452</td>\n",
              "      <td>0</td>\n",
              "      <td>1</td>\n",
              "      <td>Rs.</td>\n",
              "      <td>225</td>\n",
              "      <td>750</td>\n",
              "      <td>//www.daraz.pk/products/1-i423737473-s20070599...</td>\n",
              "      <td>Kids Watches</td>\n",
              "      <td>1</td>\n",
              "      <td>101700</td>\n",
              "    </tr>\n",
              "    <tr>\n",
              "      <th>3</th>\n",
              "      <td>M3 Touch LED Bracelet Digital Watch Band Good ...</td>\n",
              "      <td>4.6</td>\n",
              "      <td>51</td>\n",
              "      <td>332</td>\n",
              "      <td>0</td>\n",
              "      <td>1</td>\n",
              "      <td>Rs.</td>\n",
              "      <td>160</td>\n",
              "      <td>299</td>\n",
              "      <td>//www.daraz.pk/products/m3-led-led-i432456407-...</td>\n",
              "      <td>Kids Watches</td>\n",
              "      <td>1</td>\n",
              "      <td>53120</td>\n",
              "    </tr>\n",
              "    <tr>\n",
              "      <th>4</th>\n",
              "      <td>led Watches For Boys and Girls and kids</td>\n",
              "      <td>4.4</td>\n",
              "      <td>54</td>\n",
              "      <td>476</td>\n",
              "      <td>0</td>\n",
              "      <td>1</td>\n",
              "      <td>Rs.</td>\n",
              "      <td>198</td>\n",
              "      <td>300</td>\n",
              "      <td>//www.daraz.pk/products/led-i398157365-s192654...</td>\n",
              "      <td>Kids Watches</td>\n",
              "      <td>1</td>\n",
              "      <td>94248</td>\n",
              "    </tr>\n",
              "  </tbody>\n",
              "</table>\n",
              "</div>\n",
              "    <div class=\"colab-df-buttons\">\n",
              "\n",
              "  <div class=\"colab-df-container\">\n",
              "    <button class=\"colab-df-convert\" onclick=\"convertToInteractive('df-10b454fc-5d7a-4bf9-9a34-7d94a5ec3c7f')\"\n",
              "            title=\"Convert this dataframe to an interactive table.\"\n",
              "            style=\"display:none;\">\n",
              "\n",
              "  <svg xmlns=\"http://www.w3.org/2000/svg\" height=\"24px\" viewBox=\"0 -960 960 960\">\n",
              "    <path d=\"M120-120v-720h720v720H120Zm60-500h600v-160H180v160Zm220 220h160v-160H400v160Zm0 220h160v-160H400v160ZM180-400h160v-160H180v160Zm440 0h160v-160H620v160ZM180-180h160v-160H180v160Zm440 0h160v-160H620v160Z\"/>\n",
              "  </svg>\n",
              "    </button>\n",
              "\n",
              "  <style>\n",
              "    .colab-df-container {\n",
              "      display:flex;\n",
              "      gap: 12px;\n",
              "    }\n",
              "\n",
              "    .colab-df-convert {\n",
              "      background-color: #E8F0FE;\n",
              "      border: none;\n",
              "      border-radius: 50%;\n",
              "      cursor: pointer;\n",
              "      display: none;\n",
              "      fill: #1967D2;\n",
              "      height: 32px;\n",
              "      padding: 0 0 0 0;\n",
              "      width: 32px;\n",
              "    }\n",
              "\n",
              "    .colab-df-convert:hover {\n",
              "      background-color: #E2EBFA;\n",
              "      box-shadow: 0px 1px 2px rgba(60, 64, 67, 0.3), 0px 1px 3px 1px rgba(60, 64, 67, 0.15);\n",
              "      fill: #174EA6;\n",
              "    }\n",
              "\n",
              "    .colab-df-buttons div {\n",
              "      margin-bottom: 4px;\n",
              "    }\n",
              "\n",
              "    [theme=dark] .colab-df-convert {\n",
              "      background-color: #3B4455;\n",
              "      fill: #D2E3FC;\n",
              "    }\n",
              "\n",
              "    [theme=dark] .colab-df-convert:hover {\n",
              "      background-color: #434B5C;\n",
              "      box-shadow: 0px 1px 3px 1px rgba(0, 0, 0, 0.15);\n",
              "      filter: drop-shadow(0px 1px 2px rgba(0, 0, 0, 0.3));\n",
              "      fill: #FFFFFF;\n",
              "    }\n",
              "  </style>\n",
              "\n",
              "    <script>\n",
              "      const buttonEl =\n",
              "        document.querySelector('#df-10b454fc-5d7a-4bf9-9a34-7d94a5ec3c7f button.colab-df-convert');\n",
              "      buttonEl.style.display =\n",
              "        google.colab.kernel.accessAllowed ? 'block' : 'none';\n",
              "\n",
              "      async function convertToInteractive(key) {\n",
              "        const element = document.querySelector('#df-10b454fc-5d7a-4bf9-9a34-7d94a5ec3c7f');\n",
              "        const dataTable =\n",
              "          await google.colab.kernel.invokeFunction('convertToInteractive',\n",
              "                                                    [key], {});\n",
              "        if (!dataTable) return;\n",
              "\n",
              "        const docLinkHtml = 'Like what you see? Visit the ' +\n",
              "          '<a target=\"_blank\" href=https://colab.research.google.com/notebooks/data_table.ipynb>data table notebook</a>'\n",
              "          + ' to learn more about interactive tables.';\n",
              "        element.innerHTML = '';\n",
              "        dataTable['output_type'] = 'display_data';\n",
              "        await google.colab.output.renderOutput(dataTable, element);\n",
              "        const docLink = document.createElement('div');\n",
              "        docLink.innerHTML = docLinkHtml;\n",
              "        element.appendChild(docLink);\n",
              "      }\n",
              "    </script>\n",
              "  </div>\n",
              "\n",
              "\n",
              "<div id=\"df-34dccbca-cc95-4521-be4b-09eb2044d013\">\n",
              "  <button class=\"colab-df-quickchart\" onclick=\"quickchart('df-34dccbca-cc95-4521-be4b-09eb2044d013')\"\n",
              "            title=\"Suggest charts\"\n",
              "            style=\"display:none;\">\n",
              "\n",
              "<svg xmlns=\"http://www.w3.org/2000/svg\" height=\"24px\"viewBox=\"0 0 24 24\"\n",
              "     width=\"24px\">\n",
              "    <g>\n",
              "        <path d=\"M19 3H5c-1.1 0-2 .9-2 2v14c0 1.1.9 2 2 2h14c1.1 0 2-.9 2-2V5c0-1.1-.9-2-2-2zM9 17H7v-7h2v7zm4 0h-2V7h2v10zm4 0h-2v-4h2v4z\"/>\n",
              "    </g>\n",
              "</svg>\n",
              "  </button>\n",
              "\n",
              "<style>\n",
              "  .colab-df-quickchart {\n",
              "      --bg-color: #E8F0FE;\n",
              "      --fill-color: #1967D2;\n",
              "      --hover-bg-color: #E2EBFA;\n",
              "      --hover-fill-color: #174EA6;\n",
              "      --disabled-fill-color: #AAA;\n",
              "      --disabled-bg-color: #DDD;\n",
              "  }\n",
              "\n",
              "  [theme=dark] .colab-df-quickchart {\n",
              "      --bg-color: #3B4455;\n",
              "      --fill-color: #D2E3FC;\n",
              "      --hover-bg-color: #434B5C;\n",
              "      --hover-fill-color: #FFFFFF;\n",
              "      --disabled-bg-color: #3B4455;\n",
              "      --disabled-fill-color: #666;\n",
              "  }\n",
              "\n",
              "  .colab-df-quickchart {\n",
              "    background-color: var(--bg-color);\n",
              "    border: none;\n",
              "    border-radius: 50%;\n",
              "    cursor: pointer;\n",
              "    display: none;\n",
              "    fill: var(--fill-color);\n",
              "    height: 32px;\n",
              "    padding: 0;\n",
              "    width: 32px;\n",
              "  }\n",
              "\n",
              "  .colab-df-quickchart:hover {\n",
              "    background-color: var(--hover-bg-color);\n",
              "    box-shadow: 0 1px 2px rgba(60, 64, 67, 0.3), 0 1px 3px 1px rgba(60, 64, 67, 0.15);\n",
              "    fill: var(--button-hover-fill-color);\n",
              "  }\n",
              "\n",
              "  .colab-df-quickchart-complete:disabled,\n",
              "  .colab-df-quickchart-complete:disabled:hover {\n",
              "    background-color: var(--disabled-bg-color);\n",
              "    fill: var(--disabled-fill-color);\n",
              "    box-shadow: none;\n",
              "  }\n",
              "\n",
              "  .colab-df-spinner {\n",
              "    border: 2px solid var(--fill-color);\n",
              "    border-color: transparent;\n",
              "    border-bottom-color: var(--fill-color);\n",
              "    animation:\n",
              "      spin 1s steps(1) infinite;\n",
              "  }\n",
              "\n",
              "  @keyframes spin {\n",
              "    0% {\n",
              "      border-color: transparent;\n",
              "      border-bottom-color: var(--fill-color);\n",
              "      border-left-color: var(--fill-color);\n",
              "    }\n",
              "    20% {\n",
              "      border-color: transparent;\n",
              "      border-left-color: var(--fill-color);\n",
              "      border-top-color: var(--fill-color);\n",
              "    }\n",
              "    30% {\n",
              "      border-color: transparent;\n",
              "      border-left-color: var(--fill-color);\n",
              "      border-top-color: var(--fill-color);\n",
              "      border-right-color: var(--fill-color);\n",
              "    }\n",
              "    40% {\n",
              "      border-color: transparent;\n",
              "      border-right-color: var(--fill-color);\n",
              "      border-top-color: var(--fill-color);\n",
              "    }\n",
              "    60% {\n",
              "      border-color: transparent;\n",
              "      border-right-color: var(--fill-color);\n",
              "    }\n",
              "    80% {\n",
              "      border-color: transparent;\n",
              "      border-right-color: var(--fill-color);\n",
              "      border-bottom-color: var(--fill-color);\n",
              "    }\n",
              "    90% {\n",
              "      border-color: transparent;\n",
              "      border-bottom-color: var(--fill-color);\n",
              "    }\n",
              "  }\n",
              "</style>\n",
              "\n",
              "  <script>\n",
              "    async function quickchart(key) {\n",
              "      const quickchartButtonEl =\n",
              "        document.querySelector('#' + key + ' button');\n",
              "      quickchartButtonEl.disabled = true;  // To prevent multiple clicks.\n",
              "      quickchartButtonEl.classList.add('colab-df-spinner');\n",
              "      try {\n",
              "        const charts = await google.colab.kernel.invokeFunction(\n",
              "            'suggestCharts', [key], {});\n",
              "      } catch (error) {\n",
              "        console.error('Error during call to suggestCharts:', error);\n",
              "      }\n",
              "      quickchartButtonEl.classList.remove('colab-df-spinner');\n",
              "      quickchartButtonEl.classList.add('colab-df-quickchart-complete');\n",
              "    }\n",
              "    (() => {\n",
              "      let quickchartButtonEl =\n",
              "        document.querySelector('#df-34dccbca-cc95-4521-be4b-09eb2044d013 button');\n",
              "      quickchartButtonEl.style.display =\n",
              "        google.colab.kernel.accessAllowed ? 'block' : 'none';\n",
              "    })();\n",
              "  </script>\n",
              "</div>\n",
              "\n",
              "    </div>\n",
              "  </div>\n"
            ],
            "application/vnd.google.colaboratory.intrinsic+json": {
              "type": "dataframe",
              "variable_name": "df",
              "summary": "{\n  \"name\": \"df\",\n  \"rows\": 905,\n  \"fields\": [\n    {\n      \"column\": \"Title\",\n      \"properties\": {\n        \"dtype\": \"string\",\n        \"num_unique_values\": 821,\n        \"samples\": [\n          \"4pcs backpack Children School Bags For Girls  Canvas SchoolBag Fashion Kids Backpack Cute backpack child\",\n          \"Vintage Baker Boy Hat Black Beret Hat Stylish Newsboy Cap Beret Hat For Women Beret Hat For Men French Style Beret\",\n          \"Interchangeable Watch Gift Set In Box For Girls - 6 Dial & Strap\"\n        ],\n        \"semantic_type\": \"\",\n        \"description\": \"\"\n      }\n    },\n    {\n      \"column\": \"Rating in Stars\",\n      \"properties\": {\n        \"dtype\": \"number\",\n        \"std\": 0.5661541820603041,\n        \"min\": 0.0,\n        \"max\": 4.9,\n        \"num_unique_values\": 21,\n        \"samples\": [\n          4.6,\n          3.2,\n          4.9\n        ],\n        \"semantic_type\": \"\",\n        \"description\": \"\"\n      }\n    },\n    {\n      \"column\": \"Rating Count\",\n      \"properties\": {\n        \"dtype\": \"number\",\n        \"std\": 460,\n        \"min\": 0,\n        \"max\": 5553,\n        \"num_unique_values\": 374,\n        \"samples\": [\n          348,\n          75,\n          168\n        ],\n        \"semantic_type\": \"\",\n        \"description\": \"\"\n      }\n    },\n    {\n      \"column\": \"Sold Count\",\n      \"properties\": {\n        \"dtype\": \"number\",\n        \"std\": 2507,\n        \"min\": 0,\n        \"max\": 35000,\n        \"num_unique_values\": 443,\n        \"samples\": [\n          665,\n          225,\n          18000\n        ],\n        \"semantic_type\": \"\",\n        \"description\": \"\"\n      }\n    },\n    {\n      \"column\": \"Voucher\",\n      \"properties\": {\n        \"dtype\": \"number\",\n        \"std\": 1,\n        \"min\": 0,\n        \"max\": 9,\n        \"num_unique_values\": 10,\n        \"samples\": [\n          8,\n          3,\n          1\n        ],\n        \"semantic_type\": \"\",\n        \"description\": \"\"\n      }\n    },\n    {\n      \"column\": \"Delivery\",\n      \"properties\": {\n        \"dtype\": \"number\",\n        \"std\": 0,\n        \"min\": 0,\n        \"max\": 1,\n        \"num_unique_values\": 2,\n        \"samples\": [\n          0,\n          1\n        ],\n        \"semantic_type\": \"\",\n        \"description\": \"\"\n      }\n    },\n    {\n      \"column\": \"Currency\",\n      \"properties\": {\n        \"dtype\": \"category\",\n        \"num_unique_values\": 1,\n        \"samples\": [\n          \"Rs.\"\n        ],\n        \"semantic_type\": \"\",\n        \"description\": \"\"\n      }\n    },\n    {\n      \"column\": \"Current Price\",\n      \"properties\": {\n        \"dtype\": \"number\",\n        \"std\": 602,\n        \"min\": 60,\n        \"max\": 4257,\n        \"num_unique_values\": 464,\n        \"samples\": [\n          590\n        ],\n        \"semantic_type\": \"\",\n        \"description\": \"\"\n      }\n    },\n    {\n      \"column\": \"Original Price\",\n      \"properties\": {\n        \"dtype\": \"number\",\n        \"std\": 1547,\n        \"min\": 99,\n        \"max\": 10000,\n        \"num_unique_values\": 302,\n        \"samples\": [\n          1312\n        ],\n        \"semantic_type\": \"\",\n        \"description\": \"\"\n      }\n    },\n    {\n      \"column\": \"Link\",\n      \"properties\": {\n        \"dtype\": \"string\",\n        \"num_unique_values\": 887,\n        \"samples\": [\n          \"//www.daraz.pk/products/card-holder-for-men-9x-cards-slots-short-purse-slim-and-classy-pocket-friendly-fashion-wallets-zipper-i413064755-s1970712839.html?search=1\"\n        ],\n        \"semantic_type\": \"\",\n        \"description\": \"\"\n      }\n    },\n    {\n      \"column\": \"Category\",\n      \"properties\": {\n        \"dtype\": \"category\",\n        \"num_unique_values\": 7,\n        \"samples\": [\n          \"Kids Watches\"\n        ],\n        \"semantic_type\": \"\",\n        \"description\": \"\"\n      }\n    },\n    {\n      \"column\": \"Category_encoded\",\n      \"properties\": {\n        \"dtype\": \"number\",\n        \"std\": 1,\n        \"min\": 1,\n        \"max\": 7,\n        \"num_unique_values\": 7,\n        \"samples\": [\n          1\n        ],\n        \"semantic_type\": \"\",\n        \"description\": \"\"\n      }\n    },\n    {\n      \"column\": \"Total Sale\",\n      \"properties\": {\n        \"dtype\": \"number\",\n        \"std\": 2864186,\n        \"min\": 0,\n        \"max\": 62883000,\n        \"num_unique_values\": 854,\n        \"samples\": [\n          20862\n        ],\n        \"semantic_type\": \"\",\n        \"description\": \"\"\n      }\n    }\n  ]\n}"
            }
          },
          "metadata": {},
          "execution_count": 27
        }
      ]
    },
    {
      "cell_type": "markdown",
      "source": [
        "###  **Predict Sales Trend**"
      ],
      "metadata": {
        "id": "xANv94KSvm3h"
      }
    },
    {
      "cell_type": "code",
      "source": [
        "X_Trends = df.drop([\"Link\",\"Title\",\"Currency\",\"Category\"], axis=1)\n",
        "Y_Trends = df[\"Total Sale\"]"
      ],
      "metadata": {
        "id": "eeouM2l9qoVw"
      },
      "execution_count": 48,
      "outputs": []
    },
    {
      "cell_type": "code",
      "source": [
        "X_Trends = np.concatenate((X_Trends,embededtext), axis=1)\n",
        "X_Trends.shape"
      ],
      "metadata": {
        "colab": {
          "base_uri": "https://localhost:8080/"
        },
        "id": "HX2ylksvq-7D",
        "outputId": "3332f682-cb00-4831-e5bc-0dd92238f886"
      },
      "execution_count": 49,
      "outputs": [
        {
          "output_type": "execute_result",
          "data": {
            "text/plain": [
              "(905, 777)"
            ]
          },
          "metadata": {},
          "execution_count": 49
        }
      ]
    },
    {
      "cell_type": "code",
      "source": [
        "from sklearn.preprocessing import StandardScaler\n",
        "scaler = StandardScaler()"
      ],
      "metadata": {
        "id": "JQm5SJBmscnK"
      },
      "execution_count": 50,
      "outputs": []
    },
    {
      "cell_type": "code",
      "source": [
        "Scaled_X_Trends = scaler.fit_transform(X)"
      ],
      "metadata": {
        "id": "YrRA5ee2s2OK"
      },
      "execution_count": 51,
      "outputs": []
    },
    {
      "cell_type": "code",
      "source": [
        "Scaled_X_Trends.shape"
      ],
      "metadata": {
        "colab": {
          "base_uri": "https://localhost:8080/"
        },
        "id": "KtjiNxJntaqh",
        "outputId": "ab66cb6f-524f-4aae-82ee-e8dc12ee3902"
      },
      "execution_count": 52,
      "outputs": [
        {
          "output_type": "execute_result",
          "data": {
            "text/plain": [
              "(905, 1545)"
            ]
          },
          "metadata": {},
          "execution_count": 52
        }
      ]
    },
    {
      "cell_type": "code",
      "source": [
        "Y_Trends.shape"
      ],
      "metadata": {
        "colab": {
          "base_uri": "https://localhost:8080/"
        },
        "id": "UE27xOQttep3",
        "outputId": "12985581-8d52-4f29-9cb9-bc1e9b8f49dd"
      },
      "execution_count": 53,
      "outputs": [
        {
          "output_type": "execute_result",
          "data": {
            "text/plain": [
              "(905,)"
            ]
          },
          "metadata": {},
          "execution_count": 53
        }
      ]
    },
    {
      "cell_type": "code",
      "source": [
        "from sklearn.model_selection import train_test_split\n",
        "\n",
        "X_train, X_test, y_train, y_test = train_test_split(Scaled_X_Trends, Y_Trends, test_size=0.2, random_state=42)"
      ],
      "metadata": {
        "id": "0GCg2uiJj_ik"
      },
      "execution_count": 54,
      "outputs": []
    },
    {
      "cell_type": "code",
      "source": [
        "from sklearn.linear_model import LinearRegression\n",
        "from sklearn.metrics import mean_squared_error\n",
        "from sklearn.metrics import r2_score, mean_absolute_error, mean_squared_error\n",
        "\n",
        "model = LinearRegression()\n",
        "\n",
        "model.fit(X_train, y_train)\n",
        "y_pred = model.predict(X_test)\n",
        "\n",
        "mse = mean_squared_error(y_test, y_pred)\n",
        "print(\"Mean Squared Error for Total Sale:\", mse)\n",
        "\n",
        "r2 = r2_score(y_test, y_pred)\n",
        "mae = mean_absolute_error(y_test, y_pred)\n",
        "rmse = mean_squared_error(y_test, y_pred, squared=False)\n",
        "\n",
        "print(\"R-squared (R2) Score:\", r2)\n",
        "print(\"Mean Absolute Error (MAE):\", mae)\n",
        "print(\"Root Mean Squared Error (RMSE):\", rmse)"
      ],
      "metadata": {
        "colab": {
          "base_uri": "https://localhost:8080/"
        },
        "id": "P_9xdIIXtxwC",
        "outputId": "053c357f-a077-44dd-940e-f6ba1f5a73e5"
      },
      "execution_count": 59,
      "outputs": [
        {
          "output_type": "stream",
          "name": "stdout",
          "text": [
            "Mean Squared Error for Total Sale: 3.2529767504287634e-11\n",
            "R-squared (R2) Score: 1.0\n",
            "Mean Absolute Error (MAE): 7.434494700797355e-07\n",
            "Root Mean Squared Error (RMSE): 5.7034873107851864e-06\n"
          ]
        }
      ]
    },
    {
      "cell_type": "markdown",
      "source": [
        "### **Predict the Popularity**"
      ],
      "metadata": {
        "id": "Ga03UMG_v-nC"
      }
    },
    {
      "cell_type": "code",
      "source": [
        "df['Total Ratings'] = df['Rating Count'] * df['Rating in Stars']"
      ],
      "metadata": {
        "id": "iymU7_SIww6C"
      },
      "execution_count": 63,
      "outputs": []
    },
    {
      "cell_type": "code",
      "source": [
        "X_pop = df.drop([\"Link\",\"Title\",\"Currency\",\"Category\",\"Total Sale\",\"Total Ratings\"], axis=1)\n",
        "Y_pop = df[\"Total Ratings\"]"
      ],
      "metadata": {
        "id": "x1Wqd7V_vtcM"
      },
      "execution_count": 64,
      "outputs": []
    },
    {
      "cell_type": "code",
      "source": [
        "X_pop = np.concatenate((X_pop,embededtext), axis=1)"
      ],
      "metadata": {
        "colab": {
          "base_uri": "https://localhost:8080/"
        },
        "id": "fQyzXY2iwEUj",
        "outputId": "bb4da980-bd74-4825-a521-8c4704e0bc9a"
      },
      "execution_count": 61,
      "outputs": [
        {
          "output_type": "execute_result",
          "data": {
            "text/plain": [
              "(905,)"
            ]
          },
          "metadata": {},
          "execution_count": 61
        }
      ]
    },
    {
      "cell_type": "code",
      "source": [
        "Scaled_X_pop = scaler.fit_transform(X_pop)"
      ],
      "metadata": {
        "id": "t1UFyvW-wI9h"
      },
      "execution_count": 62,
      "outputs": []
    },
    {
      "cell_type": "code",
      "source": [
        "Scaled_X_Trends.shape"
      ],
      "metadata": {
        "colab": {
          "base_uri": "https://localhost:8080/"
        },
        "id": "TiHrDF2OwPuw",
        "outputId": "a4d4c863-fc5b-4dfa-c327-b7351113b731"
      },
      "execution_count": 65,
      "outputs": [
        {
          "output_type": "execute_result",
          "data": {
            "text/plain": [
              "(905, 1545)"
            ]
          },
          "metadata": {},
          "execution_count": 65
        }
      ]
    },
    {
      "cell_type": "code",
      "source": [
        "from sklearn.model_selection import train_test_split\n",
        "\n",
        "X_train, X_test, y_train, y_test = train_test_split(Scaled_X_pop, Y_pop, test_size=0.2, random_state=42)"
      ],
      "metadata": {
        "id": "DMewWl22xDtb"
      },
      "execution_count": 66,
      "outputs": []
    },
    {
      "cell_type": "code",
      "source": [
        "model = LinearRegression()\n",
        "\n",
        "model.fit(X_train, y_train)\n",
        "y_pred = model.predict(X_test)\n",
        "\n",
        "mse = mean_squared_error(y_test, y_pred)\n",
        "print(\"Mean Squared Error for Total Sale:\", mse)\n",
        "\n",
        "r2 = r2_score(y_test, y_pred)\n",
        "mae = mean_absolute_error(y_test, y_pred)\n",
        "rmse = mean_squared_error(y_test, y_pred, squared=False)\n",
        "\n",
        "print(\"R-squared (R2) Score:\", r2)\n",
        "print(\"Mean Absolute Error (MAE):\", mae)\n",
        "print(\"Root Mean Squared Error (RMSE):\", rmse)"
      ],
      "metadata": {
        "colab": {
          "base_uri": "https://localhost:8080/"
        },
        "id": "XoOHyBILxLIx",
        "outputId": "ceb753a8-6506-48e4-84f2-0bd1887f51d4"
      },
      "execution_count": 67,
      "outputs": [
        {
          "output_type": "stream",
          "name": "stdout",
          "text": [
            "Mean Squared Error for Total Sale: 1155649533.1803896\n",
            "R-squared (R2) Score: -492.32718801085514\n",
            "Mean Absolute Error (MAE): 4160.003766688909\n",
            "Root Mean Squared Error (RMSE): 33994.845685491644\n"
          ]
        }
      ]
    }
  ]
}